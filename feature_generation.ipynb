{
 "cells": [
  {
   "cell_type": "markdown",
   "metadata": {},
   "source": [
    "# Link to extracted features: https://www.dropbox.com/scl/fo/1r24ouz7byw39gwubmc9i/AJC7aJRWk7IUZgq9rsyz1Bg?rlkey=vcr9luzjjylucdgrt0tm11ut6&st=6grz4iw7&dl=0"
   ]
  },
  {
   "cell_type": "code",
   "execution_count": 2,
   "metadata": {},
   "outputs": [],
   "source": [
    "import torch\n",
    "import numpy as np\n",
    "import matplotlib.pyplot as plt\n",
    "from transformers import AutoModel, ViTFeatureExtractor, ViTModel\n",
    "from PIL import Image\n",
    "import pickle"
   ]
  },
  {
   "cell_type": "code",
   "execution_count": 3,
   "metadata": {},
   "outputs": [
    {
     "name": "stdout",
     "output_type": "stream",
     "text": [
      "dict_keys(['data', 'targets'])\n"
     ]
    },
    {
     "name": "stderr",
     "output_type": "stream",
     "text": [
      "C:\\Users\\rajud\\AppData\\Local\\Temp\\ipykernel_1900\\581164180.py:1: FutureWarning: You are using `torch.load` with `weights_only=False` (the current default value), which uses the default pickle module implicitly. It is possible to construct malicious pickle data which will execute arbitrary code during unpickling (See https://github.com/pytorch/pytorch/blob/main/SECURITY.md#untrusted-models for more details). In a future release, the default value for `weights_only` will be flipped to `True`. This limits the functions that could be executed during unpickling. Arbitrary objects will no longer be allowed to be loaded via this mode unless they are explicitly allowlisted by the user via `torch.serialization.add_safe_globals`. We recommend you start setting `weights_only=True` for any use case where you don't have full control of the loaded file. Please open an issue on GitHub for any issues related to this experimental feature.\n",
      "  ds1 = torch.load(\"dataset\\\\part_one_dataset\\\\train_data\\\\1_train_data.tar.pth\");\n"
     ]
    }
   ],
   "source": [
    "ds1 = torch.load(\"dataset\\\\part_one_dataset\\\\train_data\\\\1_train_data.tar.pth\");\n",
    "print(ds1.keys())\n",
    "data, targets = ds1['data'], ds1['targets']"
   ]
  },
  {
   "cell_type": "code",
   "execution_count": 4,
   "metadata": {},
   "outputs": [
    {
     "name": "stdout",
     "output_type": "stream",
     "text": [
      "dict_keys(['data', 'targets'])\n"
     ]
    },
    {
     "name": "stderr",
     "output_type": "stream",
     "text": [
      "C:\\Users\\rajud\\AppData\\Local\\Temp\\ipykernel_1900\\1793198265.py:1: FutureWarning: You are using `torch.load` with `weights_only=False` (the current default value), which uses the default pickle module implicitly. It is possible to construct malicious pickle data which will execute arbitrary code during unpickling (See https://github.com/pytorch/pytorch/blob/main/SECURITY.md#untrusted-models for more details). In a future release, the default value for `weights_only` will be flipped to `True`. This limits the functions that could be executed during unpickling. Arbitrary objects will no longer be allowed to be loaded via this mode unless they are explicitly allowlisted by the user via `torch.serialization.add_safe_globals`. We recommend you start setting `weights_only=True` for any use case where you don't have full control of the loaded file. Please open an issue on GitHub for any issues related to this experimental feature.\n",
      "  ds1 = torch.load(\"dataset\\\\part_one_dataset\\\\eval_data\\\\1_eval_data.tar.pth\");\n"
     ]
    }
   ],
   "source": [
    "ds1 = torch.load(\"dataset\\\\part_one_dataset\\\\eval_data\\\\1_eval_data.tar.pth\");\n",
    "print(ds1.keys())\n",
    "data_eval, targets_eval = ds1['data'], ds1['targets']"
   ]
  },
  {
   "cell_type": "code",
   "execution_count": 5,
   "metadata": {},
   "outputs": [],
   "source": [
    "def resize(image, size = (224,224)):\n",
    "    pil_image = Image.fromarray(image)\n",
    "    resized_pil_image = pil_image.resize(size, Image.Resampling.BICUBIC)\n",
    "    resized_image = np.array(resized_pil_image)\n",
    "    return resized_image"
   ]
  },
  {
   "cell_type": "code",
   "execution_count": 7,
   "metadata": {},
   "outputs": [
    {
     "name": "stderr",
     "output_type": "stream",
     "text": [
      "Some weights of ViTModel were not initialized from the model checkpoint at google/vit-base-patch16-224 and are newly initialized: ['vit.pooler.dense.bias', 'vit.pooler.dense.weight']\n",
      "You should probably TRAIN this model on a down-stream task to be able to use it for predictions and inference.\n",
      "C:\\Users\\rajud\\AppData\\Local\\Temp\\ipykernel_1900\\1040828521.py:6: FutureWarning: You are using `torch.load` with `weights_only=False` (the current default value), which uses the default pickle module implicitly. It is possible to construct malicious pickle data which will execute arbitrary code during unpickling (See https://github.com/pytorch/pytorch/blob/main/SECURITY.md#untrusted-models for more details). In a future release, the default value for `weights_only` will be flipped to `True`. This limits the functions that could be executed during unpickling. Arbitrary objects will no longer be allowed to be loaded via this mode unless they are explicitly allowlisted by the user via `torch.serialization.add_safe_globals`. We recommend you start setting `weights_only=True` for any use case where you don't have full control of the loaded file. Please open an issue on GitHub for any issues related to this experimental feature.\n",
      "  ds = torch.load(f\"dataset\\\\part_one_dataset\\\\train_data\\\\{pos}_train_data.tar.pth\");\n",
      "C:\\Users\\rajud\\AppData\\Local\\Temp\\ipykernel_1900\\1040828521.py:10: FutureWarning: You are using `torch.load` with `weights_only=False` (the current default value), which uses the default pickle module implicitly. It is possible to construct malicious pickle data which will execute arbitrary code during unpickling (See https://github.com/pytorch/pytorch/blob/main/SECURITY.md#untrusted-models for more details). In a future release, the default value for `weights_only` will be flipped to `True`. This limits the functions that could be executed during unpickling. Arbitrary objects will no longer be allowed to be loaded via this mode unless they are explicitly allowlisted by the user via `torch.serialization.add_safe_globals`. We recommend you start setting `weights_only=True` for any use case where you don't have full control of the loaded file. Please open an issue on GitHub for any issues related to this experimental feature.\n",
      "  ts = torch.load(f\"dataset\\\\part_one_dataset\\\\eval_data\\\\{pos}_eval_data.tar.pth\");\n"
     ]
    },
    {
     "name": "stdout",
     "output_type": "stream",
     "text": [
      "dict_keys(['data'])\n",
      "dict_keys(['data', 'targets'])\n"
     ]
    }
   ],
   "source": [
    "for pos in range(6,7):    \n",
    "    model_name = \"google/vit-base-patch16-224\"\n",
    "    feature_extractor = ViTFeatureExtractor.from_pretrained(model_name)\n",
    "    model = ViTModel.from_pretrained(model_name)\n",
    "\n",
    "    ds = torch.load(f\"dataset\\\\part_one_dataset\\\\train_data\\\\{pos}_train_data.tar.pth\");\n",
    "    print(ds.keys())\n",
    "    data = ds['data']\n",
    "\n",
    "    ts = torch.load(f\"dataset\\\\part_one_dataset\\\\eval_data\\\\{pos}_eval_data.tar.pth\");\n",
    "    print(ts.keys())\n",
    "    data_eval, targets_eval = ts['data'], ts['targets']\n",
    "\n",
    "    train_x = []\n",
    "    for i in range(len(data)):\n",
    "        inputs = feature_extractor(images=resize(data[i]), return_tensors=\"pt\")\n",
    "        with torch.no_grad():\n",
    "            outputs = model(**inputs)\n",
    "        features = outputs.last_hidden_state[:, 0, :]\n",
    "        train_x.append(features[0])\n",
    "\n",
    "    test_x = []\n",
    "    for i in range(len(data_eval)):\n",
    "        inputs = feature_extractor(images=resize(data_eval[i]), return_tensors=\"pt\")\n",
    "        with torch.no_grad():\n",
    "            outputs = model(**inputs)\n",
    "        features = outputs.last_hidden_state[:, 0, :]\n",
    "        test_x.append(features[0])\n",
    "    \n",
    "    np.savez(f'ds{pos}_train_new.npz', x=train_x)\n",
    "    np.savez(f'ds{pos}_eval_new.npz', x=test_x, y=targets_eval)"
   ]
  },
  {
   "cell_type": "code",
   "execution_count": 26,
   "metadata": {},
   "outputs": [],
   "source": [
    "# import numpy as np\n",
    "# import matplotlib.pyplot as plt\n",
    "# for i in range(2):    \n",
    "#     plt.imshow(data[i])\n",
    "#     plt.axis('off')  # Hide axes for a cleaner view\n",
    "#     plt.show()"
   ]
  },
  {
   "cell_type": "code",
   "execution_count": 23,
   "metadata": {},
   "outputs": [],
   "source": [
    "def apply_conv(image, kernel, stride=(16,16)):\n",
    "    img_h, img_w, img_c = image.shape\n",
    "    kernel_h, kernel_w, kernel_c = kernel.shape\n",
    "    stride_h, stride_w = stride\n",
    "\n",
    "    assert img_c == kernel_c, \"Kernel depth must match the image depth.\"\n",
    "    out_h = (img_h - kernel_h) // stride_h + 1\n",
    "    out_w = (img_w - kernel_w) // stride_w + 1\n",
    "    output = np.zeros((out_h, out_w))\n",
    "    for i in range(out_h):\n",
    "        for j in range(out_w):\n",
    "            start_h, start_w = i * stride_h, j * stride_w\n",
    "            patch = image[start_h:start_h + kernel_h, start_w:start_w + kernel_w, :]\n",
    "\n",
    "            output[i, j] = np.sum(patch * kernel)\n",
    "    return output"
   ]
  },
  {
   "cell_type": "code",
   "execution_count": null,
   "metadata": {},
   "outputs": [],
   "source": []
  },
  {
   "cell_type": "code",
   "execution_count": null,
   "metadata": {},
   "outputs": [],
   "source": []
  },
  {
   "cell_type": "code",
   "execution_count": null,
   "metadata": {},
   "outputs": [],
   "source": []
  },
  {
   "cell_type": "code",
   "execution_count": null,
   "metadata": {},
   "outputs": [],
   "source": []
  },
  {
   "cell_type": "code",
   "execution_count": null,
   "metadata": {},
   "outputs": [],
   "source": []
  }
 ],
 "metadata": {
  "kernelspec": {
   "display_name": "Python 3 (ipykernel)",
   "language": "python",
   "name": "python3"
  },
  "language_info": {
   "codemirror_mode": {
    "name": "ipython",
    "version": 3
   },
   "file_extension": ".py",
   "mimetype": "text/x-python",
   "name": "python",
   "nbconvert_exporter": "python",
   "pygments_lexer": "ipython3",
   "version": "3.12.6"
  }
 },
 "nbformat": 4,
 "nbformat_minor": 4
}
